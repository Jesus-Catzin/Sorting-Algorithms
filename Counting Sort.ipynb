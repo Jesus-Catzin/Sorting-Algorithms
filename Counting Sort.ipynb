{
 "cells": [
  {
   "cell_type": "markdown",
   "metadata": {},
   "source": [
    "# Counting Sort\n",
    "\n",
    "Counting sort is a sorting technique based on keys between a specific range. It works by counting the number of objects having distinct key values (kind of hashing). Then doing some arithmetic to calculate the position of each object in the output sequence.\n",
    "\n",
    "We have an array A with $n$ elemets.\n",
    "\n",
    "$A[a_1,a_2,a_3,...,a_n]$\n",
    "\n",
    "Then we need to create an array with the same size as the array A with 0.\n",
    "\n",
    "$B[0_1,0_2,0_3,...,0_n]$\n",
    "\n",
    "After that, we need assign the value $k$ as the highest number from the array A.\n",
    "\n",
    "$K=1,k+1$\n",
    "\n",
    "And then, we will create am array C with size $k$ with 0.\n",
    "\n",
    "$C[0_1,0_2,0_3,...,0_k]$\n",
    "\n",
    "So, we can start to sort our array.\n",
    "\n",
    "As first step, we will count the number of times that repeat each element from the array A and we will add in the array C the times that repeat with its respective index, that is, if our element $a_n$ repeats $t$ times so we need add that number $t$ in the array C in the index $i_{a+1}$.\n",
    "\n",
    "$C[t_1+0_1,t_2+0_2,t_3+0_3,...,t_k+0_k]$\n",
    "\n",
    "Second step, we will do a acomulative addition in the array C with $i_k=2$.\n",
    "\n",
    "$C[t_{k} + t_{k-1}]$\n",
    "\n",
    "Finally, each element of the array C represents the index to the array B and each index of the array C represents the number that should put in the array B with its respective index.\n",
    "\n",
    "$B[(k_{1}-1)_{t_{1},1},(k_{2}-1)_{t_{2},2},(k_{3}-1)_{t_{3},3},...,(k_{k}-1)_{t_{k},n}]$\n",
    "\n",
    "And in array C remove 1 from your used element.\n",
    "\n",
    "$C[A[i]] = C[A[i]] - 1$\n"
   ]
  },
  {
   "cell_type": "markdown",
   "metadata": {},
   "source": [
    "## Pseudocode\n",
    "$countingSort(A,B,K)\\\\\n",
    "1for\\ i\\leftarrow 1\\ to\\ k+1\\ do\\\\ \n",
    "2\\ \\ \\ \\ \\ \\ \\ C[i]\\leftarrow0\\\\\n",
    "3for\\ j\\leftarrow 1\\ to\\ A.length\\ do\\\\\n",
    "4\\ \\ \\ \\ \\ \\ \\ index\\leftarrow A[j]+1\\\\\n",
    "5\\ \\ \\ \\ \\ \\ \\ C[index]\\leftarrow C[index]+1\\\\\n",
    "6for\\ l\\leftarrow 2\\ to\\ k\\ do\\\\\n",
    "7\\ \\ \\ \\ \\ \\ \\ index\\leftarrow l+1\\\\\n",
    "8\\ \\ \\ \\ \\ \\ \\ C[l]\\leftarrow C[l]+C[index]\\\\\n",
    "9for\\ m\\leftarrow 1\\ to\\ A.length\\ do\\\\\n",
    "10\\ \\ \\ \\ \\ \\ \\ indexA\\leftarrow A[m]+1\\\\\n",
    "11\\ \\ \\ \\ \\ \\ \\ indexC\\leftarrow C[indexA]\\\\\n",
    "12\\ \\ \\ \\ \\ \\ \\ B[indexC]\\leftarrow A[m]\\\\\n",
    "13\\ \\ \\ \\ \\ \\ \\ C[indexA]\\leftarrow C[indexA]-1\\\\\n",
    "$"
   ]
  },
  {
   "cell_type": "markdown",
   "metadata": {},
   "source": [
    "## Analysis of the Algorithm (Counting Sort)\n",
    "$\n",
    "C_1\\ \\sum_{i=1}^{k+1} 1 = k+1\\\\\n",
    "C_2\\ k\\\\\n",
    "C_3\\ \\sum_{j=1}^{n} 1 = n\\\\\n",
    "C_4\\ n-1\\\\\n",
    "C_5\\ n-1\\\\\n",
    "C_6\\ \\sum_{l=2}^{k} 1 = \\sum_{l=1}^{k-1} 1 = k-1\\\\\n",
    "C_7\\ k-2\\\\\n",
    "C_8\\ k-2\\\\\n",
    "C_9\\ \\sum_{m=1}^{n} 1 = n\\\\\n",
    "C_{10}\\ n-1\\\\\n",
    "C_{11}\\ n-1\\\\\n",
    "C_{12}\\ n-1\\\\\n",
    "C_{13}\\ n-1\\\\\n",
    "\\ \\\\\n",
    "T = (k+1)+(k)+(n)+(n-1)+(n-1)+(k-1)+(k)+(k)+(n)+(n-1)+(n-1)+(n-1)+(n-1)\\\\\n",
    "\\ \\\\\n",
    "T = 8n+5k-11 \\\\\n",
    "\\ \\\\\n",
    "Complexity\\ \\ \\Theta(n)\\\\\n",
    "Best\\ Case\\ \\ O(n+k)\\\\\n",
    "Worst\\ Case\\ \\ O(n+k)\\\\\n",
    "Average\\ Case\\ \\ O(n+k)\\\\\n",
    "$"
   ]
  },
  {
   "cell_type": "code",
   "execution_count": 1,
   "metadata": {},
   "outputs": [],
   "source": [
    "import time\n",
    "import random\n",
    "import pandas as pd\n",
    "import matplotlib.pyplot as plt"
   ]
  },
  {
   "cell_type": "code",
   "execution_count": 2,
   "metadata": {},
   "outputs": [],
   "source": [
    "def countingSort(size):\n",
    "    #Size of the array\n",
    "    A = [x for x in range(0,size)]\n",
    "    #Random it\n",
    "    random.shuffle(A)\n",
    "    #Assigning the first value of the array\n",
    "    k = A[0]\n",
    "    #Runing the array\n",
    "    for i in range(1,len(A)):\n",
    "        #Comparing the size\n",
    "        if A[i] > k:\n",
    "            #Assigning\n",
    "            k = A[i]\n",
    "    #Making the same array with 0 (Sorted List)\n",
    "    B = [0 for _ in range(len(A))]\n",
    "    time_i = time.perf_counter()\n",
    "    #Array to count the times the value is repeated making it the same size as the array +1\n",
    "    C = [0 for _ in range(k+1)]\n",
    "    #Assigment of the total numbers of the array\n",
    "    for a in range(len(A)):\n",
    "        C[A[a]] = C[A[a]] + 1         \n",
    "    #Accumulative array\n",
    "    for c in range(1,k+1):\n",
    "        C[c] = C[c] + C[c-1]\n",
    "    #Odering the element of the index (c) and the position\n",
    "    for d in range(len(A)):\n",
    "        B[C[A[d]]-1] = A[d]\n",
    "        C[A[d]] -= 1\n",
    "    time_f = time.perf_counter()\n",
    "    return time_f - time_i"
   ]
  },
  {
   "cell_type": "code",
   "execution_count": 3,
   "metadata": {},
   "outputs": [
    {
     "data": {
      "text/html": [
       "<div>\n",
       "<style scoped>\n",
       "    .dataframe tbody tr th:only-of-type {\n",
       "        vertical-align: middle;\n",
       "    }\n",
       "\n",
       "    .dataframe tbody tr th {\n",
       "        vertical-align: top;\n",
       "    }\n",
       "\n",
       "    .dataframe thead th {\n",
       "        text-align: right;\n",
       "    }\n",
       "</style>\n",
       "<table border=\"1\" class=\"dataframe\">\n",
       "  <thead>\n",
       "    <tr style=\"text-align: right;\">\n",
       "      <th></th>\n",
       "      <th>Size</th>\n",
       "      <th>Running_counting_1</th>\n",
       "      <th>Running_counting_2</th>\n",
       "      <th>Running_counting_3</th>\n",
       "      <th>Running_counting_4</th>\n",
       "      <th>Running_counting_5</th>\n",
       "      <th>Running_counting_6</th>\n",
       "      <th>Counting_mean</th>\n",
       "    </tr>\n",
       "  </thead>\n",
       "  <tbody>\n",
       "    <tr>\n",
       "      <th>0</th>\n",
       "      <td>10</td>\n",
       "      <td>0.000006</td>\n",
       "      <td>0.000005</td>\n",
       "      <td>0.000005</td>\n",
       "      <td>0.000006</td>\n",
       "      <td>0.000006</td>\n",
       "      <td>0.000010</td>\n",
       "      <td>0.000006</td>\n",
       "    </tr>\n",
       "    <tr>\n",
       "      <th>1</th>\n",
       "      <td>20</td>\n",
       "      <td>0.000008</td>\n",
       "      <td>0.000008</td>\n",
       "      <td>0.000008</td>\n",
       "      <td>0.000008</td>\n",
       "      <td>0.000008</td>\n",
       "      <td>0.000017</td>\n",
       "      <td>0.000010</td>\n",
       "    </tr>\n",
       "    <tr>\n",
       "      <th>2</th>\n",
       "      <td>30</td>\n",
       "      <td>0.000012</td>\n",
       "      <td>0.000011</td>\n",
       "      <td>0.000011</td>\n",
       "      <td>0.000026</td>\n",
       "      <td>0.000011</td>\n",
       "      <td>0.000024</td>\n",
       "      <td>0.000016</td>\n",
       "    </tr>\n",
       "    <tr>\n",
       "      <th>3</th>\n",
       "      <td>40</td>\n",
       "      <td>0.000015</td>\n",
       "      <td>0.000014</td>\n",
       "      <td>0.000014</td>\n",
       "      <td>0.000015</td>\n",
       "      <td>0.000014</td>\n",
       "      <td>0.000032</td>\n",
       "      <td>0.000017</td>\n",
       "    </tr>\n",
       "    <tr>\n",
       "      <th>4</th>\n",
       "      <td>50</td>\n",
       "      <td>0.000018</td>\n",
       "      <td>0.000018</td>\n",
       "      <td>0.000018</td>\n",
       "      <td>0.000018</td>\n",
       "      <td>0.000018</td>\n",
       "      <td>0.000040</td>\n",
       "      <td>0.000021</td>\n",
       "    </tr>\n",
       "  </tbody>\n",
       "</table>\n",
       "</div>"
      ],
      "text/plain": [
       "   Size  Running_counting_1  Running_counting_2  Running_counting_3  \\\n",
       "0    10            0.000006            0.000005            0.000005   \n",
       "1    20            0.000008            0.000008            0.000008   \n",
       "2    30            0.000012            0.000011            0.000011   \n",
       "3    40            0.000015            0.000014            0.000014   \n",
       "4    50            0.000018            0.000018            0.000018   \n",
       "\n",
       "   Running_counting_4  Running_counting_5  Running_counting_6  Counting_mean  \n",
       "0            0.000006            0.000006            0.000010       0.000006  \n",
       "1            0.000008            0.000008            0.000017       0.000010  \n",
       "2            0.000026            0.000011            0.000024       0.000016  \n",
       "3            0.000015            0.000014            0.000032       0.000017  \n",
       "4            0.000018            0.000018            0.000040       0.000021  "
      ]
     },
     "execution_count": 3,
     "metadata": {},
     "output_type": "execute_result"
    }
   ],
   "source": [
    "data = pd.DataFrame({\n",
    "    'Size': [x for x in range(10,5001,10)],\n",
    "    'Running_counting_1': [countingSort(x) for x in range(10,5001,10)],\n",
    "    'Running_counting_2': [countingSort(x) for x in range(10,5001,10)],\n",
    "    'Running_counting_3': [countingSort(x) for x in range(10,5001,10)],\n",
    "    'Running_counting_4': [countingSort(x) for x in range(10,5001,10)],\n",
    "    'Running_counting_5': [countingSort(x) for x in range(10,5001,10)],\n",
    "    'Running_counting_6': [countingSort(x) for x in range(10,5001,10)],\n",
    "},index = range(0,5000,10))\n",
    "data.reset_index(inplace=True,drop=True)\n",
    "data[\"Counting_mean\"] = (data['Running_counting_1'] + data['Running_counting_2'] + data['Running_counting_3'] + data['Running_counting_4'] + data['Running_counting_5'] + data['Running_counting_6'])/6\n",
    "data.head()"
   ]
  },
  {
   "cell_type": "code",
   "execution_count": 4,
   "metadata": {},
   "outputs": [
    {
     "data": {
      "image/png": "[encoded data removed]",
      "text/plain": [
       "<Figure size 576x576 with 1 Axes>"
      ]
     },
     "metadata": {
      "needs_background": "light"
     },
     "output_type": "display_data"
    }
   ],
   "source": [
    "fig, ax = plt.subplots(figsize = (8,8))\n",
    "ax.plot(data['Size'], data['Counting_mean'], lw = 2, label='Counting Sort n', color=\"red\")\n",
    "ax.spines['top'].set_alpha(0.0)\n",
    "ax.spines['right'].set_alpha(0.0)\n",
    "ax.set_title('Counting Sort', fontsize = 20, pad=10)\n",
    "ax.set_xlabel(\"Arrays' Size\", labelpad=10, fontsize=12)\n",
    "ax.set_ylabel('Running-Time', labelpad=10, fontsize=12)\n",
    "ax.legend()\n",
    "plt.show();"
   ]
  },
  {
   "cell_type": "code",
   "execution_count": 9,
   "metadata": {},
   "outputs": [],
   "source": []
  },
  {
   "cell_type": "code",
   "execution_count": 10,
   "metadata": {},
   "outputs": [
    {
     "data": {
      "text/plain": [
       "10"
      ]
     },
     "execution_count": 10,
     "metadata": {},
     "output_type": "execute_result"
    }
   ],
   "source": []
  },
  {
   "cell_type": "code",
   "execution_count": null,
   "metadata": {},
   "outputs": [],
   "source": []
  }
 ],
 "metadata": {
  "kernelspec": {
   "display_name": "Python 3",
   "language": "python",
   "name": "python3"
  },
  "language_info": {
   "codemirror_mode": {
    "name": "ipython",
    "version": 3
   },
   "file_extension": ".py",
   "mimetype": "text/x-python",
   "name": "python",
   "nbconvert_exporter": "python",
   "pygments_lexer": "ipython3",
   "version": "3.7.3"
  }
 },
 "nbformat": 4,
 "nbformat_minor": 4
}
