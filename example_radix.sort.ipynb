{
 "cells": [
  {
   "cell_type": "markdown",
   "metadata": {},
   "source": [
    "# Example:\n",
    "\n",
    "## Unsorted list:\n",
    "\n",
    "170, 45, 75, 90, 802, 24, 2, 66\n",
    "\n",
    "(1s place)\n",
    "\n",
    "170, 90, 802, 2, 24, 45, 75, 66\n",
    "\n",
    "(10s place) \n",
    "\n",
    "802, 2, 24, 45, 66, 170, 75, 90\n",
    "\n",
    "(100s place)\n",
    "\n",
    "2, 24, 45, 66, 75, 90, 170, 802"
   ]
  },
  {
   "cell_type": "code",
   "execution_count": null,
   "metadata": {},
   "outputs": [],
   "source": []
  }
 ],
 "metadata": {
  "kernelspec": {
   "display_name": "Python 3",
   "language": "python",
   "name": "python3"
  },
  "language_info": {
   "codemirror_mode": {
    "name": "ipython",
    "version": 3
   },
   "file_extension": ".py",
   "mimetype": "text/x-python",
   "name": "python",
   "nbconvert_exporter": "python",
   "pygments_lexer": "ipython3",
   "version": "3.7.1"
  }
 },
 "nbformat": 4,
 "nbformat_minor": 2
}
